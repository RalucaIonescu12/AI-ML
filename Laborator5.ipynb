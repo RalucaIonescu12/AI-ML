{
 "cells": [
  {
   "cell_type": "code",
   "execution_count": 12,
   "metadata": {},
   "outputs": [
    {
     "name": "stdout",
     "output_type": "stream",
     "text": [
      "The first 4 samples are:\n",
      "  [[2.0150e+03 4.1000e+04 1.9670e+01 1.5820e+03 1.2620e+02 5.0000e+00\n",
      "  1.0000e+00 0.0000e+00 1.0000e+00 0.0000e+00 0.0000e+00 0.0000e+00\n",
      "  1.0000e+00 0.0000e+00]\n",
      " [2.0110e+03 4.6000e+04 1.8200e+01 1.1990e+03 8.8700e+01 5.0000e+00\n",
      "  1.0000e+00 0.0000e+00 0.0000e+00 1.0000e+00 0.0000e+00 0.0000e+00\n",
      "  1.0000e+00 0.0000e+00]\n",
      " [2.0120e+03 8.7000e+04 2.0770e+01 1.2480e+03 8.8760e+01 7.0000e+00\n",
      "  1.0000e+00 0.0000e+00 1.0000e+00 0.0000e+00 0.0000e+00 0.0000e+00\n",
      "  1.0000e+00 0.0000e+00]\n",
      " [2.0130e+03 8.6999e+04 2.3080e+01 1.4610e+03 6.3100e+01 5.0000e+00\n",
      "  1.0000e+00 0.0000e+00 1.0000e+00 0.0000e+00 0.0000e+00 0.0000e+00\n",
      "  1.0000e+00 0.0000e+00]]\n",
      "The first 4 prices are:\n",
      "  [12.5  4.5  6.   3.5]\n"
     ]
    }
   ],
   "source": [
    "import numpy as np\n",
    "from sklearn.utils import shuffle\n",
    "from sklearn.preprocessing import StandardScaler\n",
    "from sklearn.preprocessing import MinMaxScaler\n",
    "from sklearn.model_selection import cross_val_score, cross_validate\n",
    "from sklearn.metrics import mean_squared_error, mean_absolute_error\n",
    "from sklearn.linear_model import LinearRegression, Ridge, Lasso\n",
    "# load training data\n",
    "training_data = np.load('./training_data.npy')\n",
    "prices = np.load('./prices.npy')\n",
    "# print the first 4 samples\n",
    "print('The first 4 samples are:\\n ', training_data[:4])\n",
    "print('The first 4 prices are:\\n ', prices[:4])\n",
    "# shuffle  \n",
    "training_data, prices = shuffle(training_data, prices, random_state=0)"
   ]
  },
  {
   "cell_type": "code",
   "execution_count": 13,
   "metadata": {},
   "outputs": [],
   "source": [
    "def normalize_data(training_data, norm_type = 'standardize'):\n",
    "\n",
    "    scaler = StandardScaler() if norm_type == 'standardize' else MinMaxScaler()\n",
    "\n",
    "    scaled_data = scaler.fit_transform(training_data)\n",
    "\n",
    "    return scaled_data,scaler\n"
   ]
  },
  {
   "cell_type": "code",
   "execution_count": 22,
   "metadata": {},
   "outputs": [],
   "source": [
    "def cross_validate_regression_model(model, X, y, kfolds = 3):\n",
    "    scores = cross_validate(model, X, prices, scoring=('neg_mean_absolute_error', 'neg_mean_squared_error'),cv=kfolds)\n",
    "    mae = np.mean( - scores['test_neg_mean_absolute_error'])\n",
    "    mse = np.mean( - scores['test_neg_mean_squared_error'])\n",
    "    print(\"Mean MAE\", mae)\n",
    "    print(\"MEAN MSE\", mse)\n",
    "    return mae, mse\n"
   ]
  },
  {
   "cell_type": "code",
   "execution_count": 23,
   "metadata": {},
   "outputs": [
    {
     "name": "stdout",
     "output_type": "stream",
     "text": [
      "Mean MAE 1.317816585302353\n",
      "MEAN MSE 3.161262333393097\n"
     ]
    },
    {
     "data": {
      "text/plain": [
       "(1.317816585302353, 3.161262333393097)"
      ]
     },
     "execution_count": 23,
     "metadata": {},
     "output_type": "execute_result"
    }
   ],
   "source": [
    "X,_ = normalize_data(training_data)\n",
    "linear_regression_model = LinearRegression()\n",
    "cross_validate_regression_model(linear_regression_model, X, prices, kfolds= 4)"
   ]
  },
  {
   "cell_type": "code",
   "execution_count": 30,
   "metadata": {},
   "outputs": [
    {
     "name": "stdout",
     "output_type": "stream",
     "text": [
      "Alpha 1\n",
      "Mean MAE 1.319583574930827\n",
      "MEAN MSE 3.1674206256866455\n",
      "Alpha 10\n",
      "Mean MAE 1.319376826286316\n",
      "MEAN MSE 3.1672795613606772\n",
      "Alpha 100\n",
      "Mean MAE 1.318572719891866\n",
      "MEAN MSE 3.1722089449564614\n",
      "Alpha 1000\n",
      "Mean MAE 1.3664931058883667\n",
      "MEAN MSE 3.4328153928120932\n",
      "Best alpha 10\n",
      "3.1672795613606772\n"
     ]
    }
   ],
   "source": [
    "best_mse = 1e10\n",
    "best_alpha = 0\n",
    "for alpha in [1,10,100,1000]:\n",
    "    ridge_model = Ridge(alpha=alpha)\n",
    "    print('Alpha',alpha)\n",
    "    mae, mse = cross_validate_regression_model(ridge_model,X, prices, kfolds=3)\n",
    "    if mse < best_mse:\n",
    "        best_mse = mse\n",
    "        best_alpha = alpha\n",
    "\n",
    "print('Best alpha', best_alpha)\n",
    "print(best_mse)"
   ]
  },
  {
   "cell_type": "code",
   "execution_count": 36,
   "metadata": {},
   "outputs": [
    {
     "name": "stdout",
     "output_type": "stream",
     "text": [
      "Bias 5.69513\n",
      "Coeffs [ 1.6635183  -0.15533449 -0.4603473   0.40462846  1.3356851   0.13251413\n",
      " -0.08683531  0.          0.36667007 -0.36665967  0.          0.\n",
      " -0.22936955  0.22937755]\n",
      "Coeffs inds desc [ 0  4  3  8 13  5  7 10 11  6  1 12  9  2]\n"
     ]
    }
   ],
   "source": [
    "ridge_model = Ridge(alpha=10)\n",
    "ridge_model.fit(X, prices)\n",
    "print('Bias',ridge_model.intercept_)\n",
    "print('Coeffs', ridge_model.coef_)\n",
    "print(\"Coeffs inds desc\",np.argsort( - ridge_model.coef_))"
   ]
  },
  {
   "cell_type": "code",
   "execution_count": null,
   "metadata": {},
   "outputs": [],
   "source": []
  }
 ],
 "metadata": {
  "interpreter": {
   "hash": "209686db0d10a1b7bbcd5eb980792de9a835a7d5ed184bd6e819ac59f4051dcf"
  },
  "kernelspec": {
   "display_name": "Python 3.9.7 64-bit ('base': conda)",
   "language": "python",
   "name": "python3"
  },
  "language_info": {
   "codemirror_mode": {
    "name": "ipython",
    "version": 3
   },
   "file_extension": ".py",
   "mimetype": "text/x-python",
   "name": "python",
   "nbconvert_exporter": "python",
   "pygments_lexer": "ipython3",
   "version": "3.9.7"
  },
  "orig_nbformat": 4
 },
 "nbformat": 4,
 "nbformat_minor": 2
}
