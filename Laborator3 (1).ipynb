{
 "cells": [
  {
   "cell_type": "code",
   "execution_count": 4,
   "id": "00bdde3e",
   "metadata": {},
   "outputs": [],
   "source": [
    "import numpy as np\n",
    "import matplotlib.pyplot as plt"
   ]
  },
  {
   "cell_type": "code",
   "execution_count": 5,
   "id": "8ce162e6",
   "metadata": {},
   "outputs": [],
   "source": [
    "train_images = np.loadtxt('./data/train_images3.txt') # incarcam imaginile\n",
    "train_labels = np.loadtxt('./data/train_labels3.txt', 'float').astype(int) # incarcam etichetele avand\n",
    "\n",
    "test_images = np.loadtxt('./data/test_images3.txt') # incarcam imaginile\n",
    "test_labels = np.loadtxt('./data/test_labels3.txt', 'float').astype(int) # incarcam etichetele avand"
   ]
  },
  {
   "attachments": {},
   "cell_type": "markdown",
   "id": "58689487",
   "metadata": {},
   "source": [
    "2. Definiți metoda classify_image(self, test_image, num_neighbors = 3, metric = 'l2') care clasifică imaginea test_image cu metoda celor mai apropiați vecini, numărul vecinilor este stabilit de parametru num_neighbors, iar distanța poate fi L1 sau L2, în funcție de parametrul metric."
   ]
  },
  {
   "cell_type": "code",
   "execution_count": 6,
   "id": "a8137995",
   "metadata": {},
   "outputs": [],
   "source": [
    "class KNN:\n",
    "    def __init__(self, train_images, train_labels):\n",
    "        self.train_images = train_images\n",
    "        self.train_labels = train_labels\n",
    "        \n",
    "        \n",
    "    #formulele distantelor L1 si L2 date in cerinta    \n",
    "    def L2(self, sample, data):\n",
    "        return np.sqrt( np.sum((data - sample)**2, axis=-1))\n",
    "    \n",
    "    def L1(self, sample ,data):\n",
    "        return np.sum(np.abs(data - sample), axis=-1)\n",
    "    \n",
    "        \n",
    "        \n",
    "    def classify_image(self, test_image, num_neighbors = 3, metric = 'l2'):\n",
    "        \n",
    "        # Se calculează distanța între imaginea de test (test_image) și toate \n",
    "        # imaginile din setul de antrenament (self.train_images) \n",
    "        # folosind funcția distance_metric. Aceasta va returna un array \n",
    "        # de distanțe.\n",
    "        distance_metric = self.L1 if metric == 'l1' else self.L2\n",
    "    \n",
    "    # Se sortează distanțele calculate și se selectează primii num_neighbors\n",
    "    # vecini cei mai apropiați (cei cu cele mai mici valori de distanță) \n",
    "    # folosind np.argsort\n",
    "        neighbors = np.argsort(distance_metric(test_image, self.train_images))[:num_neighbors]\n",
    "        # Se obțin etichetele corespunzătoare vecinilor selectați din setul de\n",
    "        # antrenament (self.train_labels[neighbors]).\n",
    "        \n",
    "        # Se calculează numărul de apariții ale fiecărei etichete în vecinii selectați \n",
    "        # folosind np.unique(self.train_labels[neighbors], return_counts=True). Acest \n",
    "        # lucru furnizează o listă cu etichetele distincte (neighs) și numărul de \n",
    "        # apariții ale acestora (counts).\n",
    "        \n",
    "        neighs, counts = np.unique(self.train_labels[neighbors], return_counts = True)\n",
    "        # Se returnează eticheta care are cel mai mare număr de apariții în vecinii \n",
    "        # selectați \n",
    "        return neighs[np.argmax(counts)]\n",
    "        \n",
    "        "
   ]
  },
  {
   "cell_type": "code",
   "execution_count": 12,
   "id": "0929a664",
   "metadata": {},
   "outputs": [],
   "source": [
    "knn = KNN(train_images, train_labels)"
   ]
  },
  {
   "attachments": {},
   "cell_type": "markdown",
   "id": "e0f1d90d",
   "metadata": {},
   "source": [
    "3. Calculați acuratețea metodei celor mai apropiați vecini pe mulțimea de testare având ca distanța ‘l2’ și numărul de vecini 3. Salvați predicțiile în fișierul predictii_3nn_l2_mnist.txt."
   ]
  },
  {
   "cell_type": "code",
   "execution_count": 13,
   "id": "d32d2f61",
   "metadata": {},
   "outputs": [],
   "source": [
    "def classify_test_images(test_images, num_vec = 3, distance = 'l2'):\n",
    "    # Funcția primește o listă de imagini de test (test_images) \n",
    "    # și efectuează clasificarea acestora folosind algoritmul k-NN \n",
    "    # cu o distanță L2 și un număr de vecini de 3. . \n",
    "    preds = np.array([knn.classify_image(test_image, num_vec, distance) for test_image in test_images])\n",
    "    acc = np.sum(preds == test_labels) / len(preds)\n",
    "    print(f\"Num neighbors : {num_vec}, distance : {distance}, Acc  {acc}\")\n",
    "    return acc"
   ]
  },
  {
   "cell_type": "code",
   "execution_count": 9,
   "id": "f9520933",
   "metadata": {},
   "outputs": [
    {
     "name": "stdout",
     "output_type": "stream",
     "text": [
      "Num neighbors : 3, distance : l2, Acc  0.898\n"
     ]
    },
    {
     "data": {
      "text/plain": [
       "0.898"
      ]
     },
     "execution_count": 9,
     "metadata": {},
     "output_type": "execute_result"
    }
   ],
   "source": [
    "classify_test_images(test_images)"
   ]
  },
  {
   "attachments": {},
   "cell_type": "markdown",
   "id": "3361de2f",
   "metadata": {},
   "source": [
    "Calculați acuratețea metodei celor mai apropiați vecini pe mulțimea de testare având ca distanța L2 și numărul de vecini ∈ [1, 3, 5, 7, 9].\n",
    "a. Plotați un grafic cu acuratețea obținuta pentru fiecare vecin și salvați scorurile în fișierul acuratete_l2.txt.\n",
    "b. Repetați punctul anterior pentru distanța L1. Plotați graficul de la punctul anterior în aceeași figură cu graficul curent (utilizați fișierul acuratete_l2.txt)."
   ]
  },
  {
   "cell_type": "code",
   "execution_count": 10,
   "id": "757e7442",
   "metadata": {},
   "outputs": [
    {
     "name": "stdout",
     "output_type": "stream",
     "text": [
      "Num neighbors : 1, distance : l2, Acc  0.884\n",
      "Num neighbors : 3, distance : l2, Acc  0.898\n",
      "Num neighbors : 5, distance : l2, Acc  0.896\n",
      "Num neighbors : 7, distance : l2, Acc  0.88\n",
      "Num neighbors : 9, distance : l2, Acc  0.88\n",
      "Num neighbors : 1, distance : l1, Acc  0.88\n",
      "Num neighbors : 3, distance : l1, Acc  0.884\n",
      "Num neighbors : 5, distance : l1, Acc  0.868\n",
      "Num neighbors : 7, distance : l1, Acc  0.864\n",
      "Num neighbors : 9, distance : l1, Acc  0.864\n"
     ]
    }
   ],
   "source": [
    "accs_l2 = [ classify_test_images(test_images, num_vec = i, distance = 'l2') for i in [1,3, 5, 7, 9]]\n",
    "accs_l1 = [ classify_test_images(test_images, num_vec = i, distance = 'l1') for i in [1,3, 5, 7, 9]]"
   ]
  },
  {
   "cell_type": "code",
   "execution_count": 11,
   "id": "6fd12733",
   "metadata": {},
   "outputs": [
    {
     "data": {
      "image/png": "[encoded data removed]",
      "text/plain": [
       "<Figure size 432x288 with 1 Axes>"
      ]
     },
     "metadata": {
      "needs_background": "light"
     },
     "output_type": "display_data"
    }
   ],
   "source": [
    "plt.plot(np.arange(len(accs_l1)), accs_l1)\n",
    "plt.plot(np.arange(len(accs_l2)), accs_l2)\n",
    "plt.xlabel('Num neighbors')\n",
    "plt.ylabel(\"Accuracy\")\n",
    "plt.legend([\"L1\",\"L2\"])\n",
    "\n",
    "\n",
    "plt.show()"
   ]
  }
 ],
 "metadata": {
  "kernelspec": {
   "display_name": "base",
   "language": "python",
   "name": "python3"
  },
  "language_info": {
   "codemirror_mode": {
    "name": "ipython",
    "version": 3
   },
   "file_extension": ".py",
   "mimetype": "text/x-python",
   "name": "python",
   "nbconvert_exporter": "python",
   "pygments_lexer": "ipython3",
   "version": "3.9.12"
  }
 },
 "nbformat": 4,
 "nbformat_minor": 5
}
